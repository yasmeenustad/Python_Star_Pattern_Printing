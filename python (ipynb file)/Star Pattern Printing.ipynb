{
 "cells": [
  {
   "cell_type": "code",
   "execution_count": 1,
   "id": "6cac5458",
   "metadata": {},
   "outputs": [
    {
     "name": "stdout",
     "output_type": "stream",
     "text": [
      "7\n"
     ]
    }
   ],
   "source": [
    "n = int(input())"
   ]
  },
  {
   "cell_type": "markdown",
   "id": "d535e7c6",
   "metadata": {},
   "source": [
    "# Square:"
   ]
  },
  {
   "cell_type": "code",
   "execution_count": 84,
   "id": "ef6d4dac",
   "metadata": {},
   "outputs": [
    {
     "name": "stdout",
     "output_type": "stream",
     "text": [
      "* * * * * * * \n",
      "* * * * * * * \n",
      "* * * * * * * \n",
      "* * * * * * * \n",
      "* * * * * * * \n",
      "* * * * * * * \n",
      "* * * * * * * \n"
     ]
    }
   ],
   "source": [
    "for i in range(1,n+1):\n",
    "    print(\"* \"*(n))"
   ]
  },
  {
   "cell_type": "markdown",
   "id": "72de21d0",
   "metadata": {},
   "source": [
    "# Right angled  triangle:"
   ]
  },
  {
   "cell_type": "code",
   "execution_count": 85,
   "id": "09a175a9",
   "metadata": {},
   "outputs": [
    {
     "name": "stdout",
     "output_type": "stream",
     "text": [
      "* \n",
      "* * \n",
      "* * * \n",
      "* * * * \n",
      "* * * * * \n",
      "* * * * * * \n",
      "* * * * * * * \n"
     ]
    }
   ],
   "source": [
    "for i in range(1,n+1):\n",
    "    print(\"* \" * (i))"
   ]
  },
  {
   "cell_type": "markdown",
   "id": "2d550a50",
   "metadata": {},
   "source": [
    "# Left angled  triangle:"
   ]
  },
  {
   "cell_type": "code",
   "execution_count": 86,
   "id": "cec9f779",
   "metadata": {},
   "outputs": [
    {
     "name": "stdout",
     "output_type": "stream",
     "text": [
      "            * \n",
      "          * * \n",
      "        * * * \n",
      "      * * * * \n",
      "    * * * * * \n",
      "  * * * * * * \n",
      "* * * * * * * \n"
     ]
    }
   ],
   "source": [
    "for i in range(1,n+1):\n",
    "    print(\"  \" * (n-i) + \"* \" * (i))"
   ]
  },
  {
   "cell_type": "markdown",
   "id": "0abb54fd",
   "metadata": {},
   "source": [
    "# Equilateral triangle:"
   ]
  },
  {
   "cell_type": "code",
   "execution_count": 87,
   "id": "36bec6bd",
   "metadata": {},
   "outputs": [
    {
     "name": "stdout",
     "output_type": "stream",
     "text": [
      "      * \n",
      "     * * \n",
      "    * * * \n",
      "   * * * * \n",
      "  * * * * * \n",
      " * * * * * * \n",
      "* * * * * * * \n"
     ]
    }
   ],
   "source": [
    "for i in range(1,n+1):\n",
    "    print(\" \" * (n-i) + \"* \" * (i))"
   ]
  },
  {
   "cell_type": "markdown",
   "id": "beb09715",
   "metadata": {},
   "source": [
    "# Inverted right triangle:"
   ]
  },
  {
   "cell_type": "code",
   "execution_count": 88,
   "id": "04514492",
   "metadata": {},
   "outputs": [
    {
     "name": "stdout",
     "output_type": "stream",
     "text": [
      "* * * * * * * \n",
      "* * * * * * \n",
      "* * * * * \n",
      "* * * * \n",
      "* * * \n",
      "* * \n",
      "* \n"
     ]
    }
   ],
   "source": [
    "for i in range(n, 0, -1):\n",
    "    print(\"* \"*(i))"
   ]
  },
  {
   "cell_type": "markdown",
   "id": "38869105",
   "metadata": {},
   "source": [
    "# Inverted left triangle:"
   ]
  },
  {
   "cell_type": "code",
   "execution_count": 89,
   "id": "1dd3dc86",
   "metadata": {},
   "outputs": [
    {
     "name": "stdout",
     "output_type": "stream",
     "text": [
      "* * * * * * * \n",
      "  * * * * * * \n",
      "    * * * * * \n",
      "      * * * * \n",
      "        * * * \n",
      "          * * \n",
      "            * \n"
     ]
    }
   ],
   "source": [
    "for i in range(n, 0, -1):\n",
    "    print(\"  \" * (n-i) + \"* \"*(i))"
   ]
  },
  {
   "cell_type": "markdown",
   "id": "66edfa67",
   "metadata": {},
   "source": [
    "# Inverted equilateral triangle:"
   ]
  },
  {
   "cell_type": "code",
   "execution_count": 90,
   "id": "2378f34d",
   "metadata": {},
   "outputs": [
    {
     "name": "stdout",
     "output_type": "stream",
     "text": [
      "* * * * * * * \n",
      " * * * * * * \n",
      "  * * * * * \n",
      "   * * * * \n",
      "    * * * \n",
      "     * * \n",
      "      * \n"
     ]
    }
   ],
   "source": [
    "for i in range(n, 0, -1):\n",
    "    print(\" \" * (n-i) + \"* \"*(i))"
   ]
  },
  {
   "cell_type": "markdown",
   "id": "bbb8453c",
   "metadata": {},
   "source": [
    "# Diamond:"
   ]
  },
  {
   "cell_type": "code",
   "execution_count": 91,
   "id": "36ab5a88",
   "metadata": {},
   "outputs": [
    {
     "name": "stdout",
     "output_type": "stream",
     "text": [
      "      * \n",
      "     * * \n",
      "    * * * \n",
      "   * * * * \n",
      "  * * * * * \n",
      " * * * * * * \n",
      "* * * * * * * \n",
      " * * * * * * \n",
      "  * * * * * \n",
      "   * * * * \n",
      "    * * * \n",
      "     * * \n",
      "      * \n"
     ]
    }
   ],
   "source": [
    "for i in range(1,n+1):\n",
    "    print(\" \" * (n-i) + \"* \" * (i))\n",
    "for i in range(n-1, 0, -1):\n",
    "    print(\" \" * (n-i) + \"* \"*(i))    "
   ]
  },
  {
   "cell_type": "markdown",
   "id": "8fc3e073",
   "metadata": {},
   "source": [
    "# Hollow square:"
   ]
  },
  {
   "cell_type": "code",
   "execution_count": 92,
   "id": "769bcf50",
   "metadata": {},
   "outputs": [
    {
     "name": "stdout",
     "output_type": "stream",
     "text": [
      "* * * * * * * \n",
      "*           * \n",
      "*           * \n",
      "*           * \n",
      "*           * \n",
      "*           * \n",
      "* * * * * * * \n"
     ]
    }
   ],
   "source": [
    "for i in range(1,n+1):\n",
    "    for j in range(1,n+1):\n",
    "        if i == 1 or i==n or j==1 or j==n:\n",
    "            print(\"*\", end = ' ')\n",
    "        else:\n",
    "            print(' ', end = ' ')\n",
    "    print() "
   ]
  },
  {
   "cell_type": "markdown",
   "id": "cba3df96",
   "metadata": {},
   "source": [
    "# Hollow right angled  triangle:"
   ]
  },
  {
   "cell_type": "code",
   "execution_count": 173,
   "id": "3c7355e8",
   "metadata": {},
   "outputs": [
    {
     "name": "stdout",
     "output_type": "stream",
     "text": [
      "* \n",
      "* * \n",
      "*   * \n",
      "*     * \n",
      "*       * \n",
      "*         * \n",
      "* * * * * * * \n"
     ]
    }
   ],
   "source": [
    "for i in range(1,n+1):\n",
    "    for j in range(1,i+1):\n",
    "        if i==n or j==1 or i==j:\n",
    "            print('*',end = ' ')\n",
    "        else:\n",
    "            print(' ',end = ' ')\n",
    "    print()"
   ]
  },
  {
   "cell_type": "markdown",
   "id": "16a3cc21",
   "metadata": {},
   "source": [
    "# Hollow left angled  triangle:"
   ]
  },
  {
   "cell_type": "code",
   "execution_count": 94,
   "id": "a057f2d7",
   "metadata": {},
   "outputs": [
    {
     "name": "stdout",
     "output_type": "stream",
     "text": [
      "* * * * * * * \n",
      "*         * \n",
      "*       * \n",
      "*     * \n",
      "*   * \n",
      "* * \n",
      "* \n"
     ]
    }
   ],
   "source": [
    "for i in range(n,0, -1):\n",
    "    for j in range(1,i+1):\n",
    "        if i==n or j==1 or i==j:\n",
    "            print('*',end = ' ')\n",
    "        else:\n",
    "            print(' ',end = ' ')\n",
    "    print()"
   ]
  },
  {
   "cell_type": "markdown",
   "id": "39fd75c6",
   "metadata": {},
   "source": [
    "# Hollow equilateral traingle:"
   ]
  },
  {
   "cell_type": "code",
   "execution_count": 212,
   "id": "6704a687",
   "metadata": {},
   "outputs": [
    {
     "name": "stdout",
     "output_type": "stream",
     "text": [
      "      * \n",
      "     * * \n",
      "    *   * \n",
      "   *     * \n",
      "  *       * \n",
      " *         * \n",
      "* * * * * * * \n"
     ]
    }
   ],
   "source": [
    "for i in range(1, n + 1):\n",
    "    if i == 1 or i==n:\n",
    "        print(\" \" * (n - i) + \"* \" * i)\n",
    "    else:\n",
    "        print(\" \" * (n - i) + \"*\" + \" \" * (2 * (i - 2) + 1) + \"* \")"
   ]
  },
  {
   "cell_type": "markdown",
   "id": "eae9e45a",
   "metadata": {},
   "source": [
    "# Hollow diamond:"
   ]
  },
  {
   "cell_type": "code",
   "execution_count": 210,
   "id": "bc7d1710",
   "metadata": {},
   "outputs": [
    {
     "name": "stdout",
     "output_type": "stream",
     "text": [
      "      * \n",
      "     * * \n",
      "    *   * \n",
      "   *     * \n",
      "  *       * \n",
      " *         * \n",
      "*           * \n",
      " *         * \n",
      "  *       * \n",
      "   *     * \n",
      "    *   * \n",
      "     * * \n",
      "      * \n"
     ]
    }
   ],
   "source": [
    "# Upper part of the diamond\n",
    "for i in range(1, n + 1):\n",
    "    if i == 1:\n",
    "        print(\" \" * (n - i) + \"* \" * i)\n",
    "    else:\n",
    "        print(\" \" * (n - i) + \"*\" + \" \" * (2 * (i - 2) + 1) + \"* \")\n",
    "\n",
    "# Lower part of the diamond\n",
    "for i in range(n - 1, 0, -1):\n",
    "    if i == 1:\n",
    "        print(\" \" * (n - i) + \"* \" * i)\n",
    "    else:\n",
    "        print(\" \" * (n - i) + \"*\" + \" \" * (2 * (i - 2) + 1) + \"* \")"
   ]
  },
  {
   "cell_type": "markdown",
   "id": "1c4a5a51",
   "metadata": {},
   "source": [
    "# Alphabates:"
   ]
  },
  {
   "cell_type": "code",
   "execution_count": 127,
   "id": "3cdb5580",
   "metadata": {},
   "outputs": [
    {
     "name": "stdout",
     "output_type": "stream",
     "text": [
      "      *      \n",
      "     * *     \n",
      "    *   *    \n",
      "   *******   \n",
      "  *       *  \n",
      " *         * \n",
      "*           *\n"
     ]
    }
   ],
   "source": [
    "for i in range(1,n+1):\n",
    "    for j in range(1,(2*n)):\n",
    "        if i+j==(n+1) or j-i==(n-1):\n",
    "            print('*', end = '')\n",
    "        elif i==4 and j>4 and j<10:\n",
    "            print('*',end = '')\n",
    "        else:\n",
    "            print('', end = ' ')\n",
    "    print()"
   ]
  },
  {
   "cell_type": "code",
   "execution_count": 131,
   "id": "dbd0c88d",
   "metadata": {},
   "outputs": [
    {
     "name": "stdout",
     "output_type": "stream",
     "text": [
      "* * * * * *   \n",
      "*           * \n",
      "*           * \n",
      "* * * * * *   \n",
      "*           * \n",
      "*           * \n",
      "* * * * * *   \n"
     ]
    }
   ],
   "source": [
    "for i in range(1,n+1):\n",
    "    for j in range(1,n+1):\n",
    "        if (j == 1 or j==n) and (i!=1 and i!=(n//2)+1) and i!=n:\n",
    "            print('*',end = ' ')\n",
    "        elif (i==1 or i==(n//2)+1 or i==n) and (j!=n):\n",
    "            print('*',end = ' ')\n",
    "        else:\n",
    "            print(' ',end = ' ')\n",
    "    print()"
   ]
  },
  {
   "cell_type": "code",
   "execution_count": 4,
   "id": "ef96c513",
   "metadata": {},
   "outputs": [
    {
     "name": "stdout",
     "output_type": "stream",
     "text": [
      "  * * * * * * \n",
      "*             \n",
      "*             \n",
      "*             \n",
      "*             \n",
      "*             \n",
      "  * * * * * * \n"
     ]
    }
   ],
   "source": [
    "for i in range(1,n+1):\n",
    "    for j in range(1,n+1):\n",
    "        if (j == 1) and (i!=1 and i!=n):\n",
    "            print('*',end = ' ')\n",
    "        elif (i==1 or i==n) and j!=1:\n",
    "            print('*',end = ' ')\n",
    "        else:\n",
    "            print(' ',end = ' ')\n",
    "    print()"
   ]
  },
  {
   "cell_type": "code",
   "execution_count": 5,
   "id": "a4ef50d2",
   "metadata": {},
   "outputs": [
    {
     "name": "stdout",
     "output_type": "stream",
     "text": [
      "* * * * * *   \n",
      "*           * \n",
      "*           * \n",
      "*           * \n",
      "*           * \n",
      "*           * \n",
      "* * * * * *   \n"
     ]
    }
   ],
   "source": [
    "for i in range(1,n+1):\n",
    "    for j in range(1,n+1):\n",
    "        if (j == 1 or j==n) and (i!=1 and i!=n):\n",
    "            print('*',end = ' ')\n",
    "        elif (i==1 or i==n) and (j!=n):\n",
    "            print('*',end = ' ')\n",
    "        else:\n",
    "            print(' ',end = ' ')\n",
    "    print()"
   ]
  },
  {
   "cell_type": "code",
   "execution_count": 6,
   "id": "3f8590df",
   "metadata": {},
   "outputs": [
    {
     "name": "stdout",
     "output_type": "stream",
     "text": [
      "* * * * * * * \n",
      "*             \n",
      "*             \n",
      "* * * * * * * \n",
      "*             \n",
      "*             \n",
      "* * * * * * * \n"
     ]
    }
   ],
   "source": [
    "for i in range(1,n+1):\n",
    "    for j in range(1,n+1):\n",
    "        if j == 1:\n",
    "            print('*',end = ' ')\n",
    "        elif (i==1 or i==(n//2)+1 or i==n):\n",
    "            print('*',end = ' ')\n",
    "        else:\n",
    "            print(' ',end = ' ')\n",
    "    print()"
   ]
  },
  {
   "cell_type": "code",
   "execution_count": 7,
   "id": "73d45b92",
   "metadata": {},
   "outputs": [
    {
     "name": "stdout",
     "output_type": "stream",
     "text": [
      "* * * * * * * \n",
      "*             \n",
      "*             \n",
      "* * * * * * * \n",
      "*             \n",
      "*             \n",
      "*             \n"
     ]
    }
   ],
   "source": [
    "for i in range(1,n+1):\n",
    "    for j in range(1,n+1):\n",
    "        if j == 1:\n",
    "            print('*',end = ' ')\n",
    "        elif (i==1 or i==(n//2)+1):\n",
    "            print('*',end = ' ')\n",
    "        else:\n",
    "            print(' ',end = ' ')\n",
    "    print()"
   ]
  },
  {
   "cell_type": "code",
   "execution_count": 187,
   "id": "59f642ca",
   "metadata": {},
   "outputs": [
    {
     "name": "stdout",
     "output_type": "stream",
     "text": [
      "  * * * *     \n",
      "*         *   \n",
      "*         *   \n",
      "*             \n",
      "*       * * * \n",
      "*       *   * \n",
      "  * * *     * \n"
     ]
    }
   ],
   "source": [
    "for i in range(1,n+1):\n",
    "    for j in range(1,n+1):\n",
    "        if (j==1) and (i!=1 and i!=n):\n",
    "            print('*',end = ' ')\n",
    "        elif ((i==1 and j<6) or i==n and j not in(5,6)) and (j!=1):\n",
    "            print('*',end = ' ')\n",
    "        elif (i==5 and j >= 5) or (i==6 and j in(5,7)):\n",
    "            print('*',end = ' ')\n",
    "        elif i in (2,3) and j == 6:\n",
    "            print('*',end = ' ')\n",
    "        else:\n",
    "            print(' ',end = ' ')\n",
    "    print()"
   ]
  },
  {
   "cell_type": "code",
   "execution_count": 17,
   "id": "d5b1be6c",
   "metadata": {},
   "outputs": [
    {
     "name": "stdout",
     "output_type": "stream",
     "text": [
      "*           * \n",
      "*           * \n",
      "*           * \n",
      "* * * * * * * \n",
      "*           * \n",
      "*           * \n",
      "*           * \n"
     ]
    }
   ],
   "source": [
    "for i in range(n):\n",
    "    for j in range(n):\n",
    "        if j==0 or j==n-1 or i==n//2:\n",
    "            print('*',end = ' ')\n",
    "        else:\n",
    "            print(' ',end = ' ')\n",
    "    print()"
   ]
  },
  {
   "cell_type": "code",
   "execution_count": 23,
   "id": "f5951a5e",
   "metadata": {},
   "outputs": [
    {
     "name": "stdout",
     "output_type": "stream",
     "text": [
      "* * * * * * * \n",
      "      *       \n",
      "      *       \n",
      "      *       \n",
      "      *       \n",
      "      *       \n",
      "* * * * * * * \n"
     ]
    }
   ],
   "source": [
    "for i in range(n):\n",
    "    for j in range(n):\n",
    "        if i==0 or j==n//2 or i==n-1:\n",
    "            print('*',end = ' ')\n",
    "        else:\n",
    "            print(' ',end = ' ')\n",
    "    print() "
   ]
  },
  {
   "cell_type": "code",
   "execution_count": 41,
   "id": "54f4e26c",
   "metadata": {},
   "outputs": [
    {
     "name": "stdout",
     "output_type": "stream",
     "text": [
      "* * * * * * * \n",
      "      *       \n",
      "      *       \n",
      "      *       \n",
      "*     *       \n",
      "*     *       \n",
      "  * *         \n"
     ]
    }
   ],
   "source": [
    "for i in range(n):\n",
    "    for j in range(n):\n",
    "        if (i==0 or j==n//2) and (i!=n-1):\n",
    "            print('*',end = ' ')\n",
    "        elif i==n-1 and j in(1,2):\n",
    "            print('*',end = ' ')\n",
    "        elif j==0 and i in(4,5):\n",
    "            print('*',end = ' ')\n",
    "        else:\n",
    "            print(' ',end = ' ')\n",
    "    print()            "
   ]
  },
  {
   "cell_type": "code",
   "execution_count": 51,
   "id": "1310241f",
   "metadata": {},
   "outputs": [
    {
     "name": "stdout",
     "output_type": "stream",
     "text": [
      "*     * \n",
      "*   *   \n",
      "* *     \n",
      "*       \n",
      "* *     \n",
      "*   *   \n",
      "*     * \n"
     ]
    }
   ],
   "source": [
    "for i in range(n):\n",
    "    for j in range((n//2)+1):\n",
    "        if j==0 or i+j==n//2 or i-j==n//2:\n",
    "            print('*',end = ' ')\n",
    "        else:\n",
    "            print(' ',end = ' ')\n",
    "    print()            "
   ]
  },
  {
   "cell_type": "code",
   "execution_count": 190,
   "id": "764d5a0b",
   "metadata": {},
   "outputs": [
    {
     "name": "stdout",
     "output_type": "stream",
     "text": [
      "*       \n",
      "*       \n",
      "*       \n",
      "*       \n",
      "*       \n",
      "*       \n",
      "* * * * * * * \n"
     ]
    }
   ],
   "source": [
    "for i in range(n):\n",
    "    for j in range(n):\n",
    "        if j==0 or i==n-1:\n",
    "            print('*',end = ' ')\n",
    "        else:\n",
    "            print(' ',end = '')\n",
    "    print()   "
   ]
  },
  {
   "cell_type": "code",
   "execution_count": 60,
   "id": "7c85b16e",
   "metadata": {},
   "outputs": [
    {
     "name": "stdout",
     "output_type": "stream",
     "text": [
      "*           * \n",
      "* *       * * \n",
      "*   *   *   * \n",
      "*     *     * \n",
      "*           * \n",
      "*           * \n",
      "*           * \n"
     ]
    }
   ],
   "source": [
    "for i in range(n):\n",
    "    for j in range(n):\n",
    "        if j==0 or j==n-1:\n",
    "            print('*',end = ' ')\n",
    "        elif (i==j and (j<=3)) or (i+j==n-1 and j not in(1,2)):\n",
    "            print('*',end = ' ')\n",
    "        else:\n",
    "            print(' ',end = ' ')\n",
    "    print()  "
   ]
  },
  {
   "cell_type": "code",
   "execution_count": 57,
   "id": "b13a9985",
   "metadata": {},
   "outputs": [
    {
     "name": "stdout",
     "output_type": "stream",
     "text": [
      "*           * \n",
      "* *         * \n",
      "*   *       * \n",
      "*     *     * \n",
      "*       *   * \n",
      "*         * * \n",
      "*           * \n"
     ]
    }
   ],
   "source": [
    "for i in range(n):\n",
    "    for j in range(n):\n",
    "        if j==0 or j==n-1 or i==j:\n",
    "            print('*',end = ' ')\n",
    "        else:\n",
    "            print(' ',end = ' ')\n",
    "    print()  "
   ]
  },
  {
   "cell_type": "code",
   "execution_count": 93,
   "id": "c3bc904f",
   "metadata": {},
   "outputs": [
    {
     "name": "stdout",
     "output_type": "stream",
     "text": [
      "  * * * * *   \n",
      "*           * \n",
      "*           * \n",
      "*           * \n",
      "*           * \n",
      "*           * \n",
      "  * * * * *   \n"
     ]
    }
   ],
   "source": [
    "for i in range(n):\n",
    "    for j in range(n):\n",
    "        if (j==0 or j==n-1) and (i!=0 and i!=n-1):\n",
    "            print('*',end = ' ')\n",
    "        elif  (i==0 or i==n-1) and j!=0 and j!=n-1:\n",
    "            print('*',end = ' ')\n",
    "        else:\n",
    "            print(' ',end = ' ')\n",
    "    print()  "
   ]
  },
  {
   "cell_type": "code",
   "execution_count": 124,
   "id": "57dcd9ad",
   "metadata": {},
   "outputs": [
    {
     "name": "stdout",
     "output_type": "stream",
     "text": [
      "* * * * * *   \n",
      "*           * \n",
      "*           * \n",
      "* * * * * *   \n",
      "*             \n",
      "*             \n",
      "*             \n"
     ]
    }
   ],
   "source": [
    "for i in range(n):\n",
    "    for j in range(n):\n",
    "        if (j==0) or (j==n-1 and i in(1,2)):\n",
    "            print('*',end = ' ')\n",
    "        elif (i==n//2  or i==0) and (j!=n-1):\n",
    "            print('*',end = ' ')\n",
    "        else:\n",
    "            print(' ',end = ' ')\n",
    "    print()  "
   ]
  },
  {
   "cell_type": "code",
   "execution_count": 138,
   "id": "e4efa8e3",
   "metadata": {},
   "outputs": [
    {
     "name": "stdout",
     "output_type": "stream",
     "text": [
      "  * * * * *   \n",
      "*           * \n",
      "*           * \n",
      "*     *     * \n",
      "*       *   * \n",
      "*         * * \n",
      "  * * * * * * \n"
     ]
    }
   ],
   "source": [
    "for i in range(n):\n",
    "    for j in range(n):\n",
    "        if (j==0 or j==n-1) and (i!=0 and i!=n-1):\n",
    "            print('*',end = ' ')\n",
    "        elif  (i==0 or i==n-1) and j!=0 and j!=n-1:\n",
    "            print('*',end = ' ')\n",
    "        elif i==j and j>=3:\n",
    "            print('*',end = ' ')\n",
    "        else:\n",
    "            print(' ',end = ' ')\n",
    "    print()  "
   ]
  },
  {
   "cell_type": "code",
   "execution_count": 144,
   "id": "3437ddac",
   "metadata": {},
   "outputs": [
    {
     "name": "stdout",
     "output_type": "stream",
     "text": [
      "* * * * * *   \n",
      "*           * \n",
      "*           * \n",
      "* * * * * *   \n",
      "*       *     \n",
      "*         *   \n",
      "*           * \n"
     ]
    }
   ],
   "source": [
    "for i in range(n):\n",
    "    for j in range(n):\n",
    "        if j==0 or j==n-1 and (i in(1,2)):\n",
    "            print('*',end = ' ')\n",
    "        elif (i==n//2 or i==0) and (j!=n-1):\n",
    "            print('*',end = ' ')\n",
    "        elif i==j and j>2:\n",
    "            print('*',end = ' ')\n",
    "        else:\n",
    "            print(' ',end = ' ')\n",
    "    print()  "
   ]
  },
  {
   "cell_type": "code",
   "execution_count": 172,
   "id": "210ee9a2",
   "metadata": {},
   "outputs": [
    {
     "name": "stdout",
     "output_type": "stream",
     "text": [
      "  * * * * * * \n",
      "*             \n",
      "*             \n",
      "  * * * * *   \n",
      "            * \n",
      "            * \n",
      "* * * * * *   \n"
     ]
    }
   ],
   "source": [
    "for i in range(n):\n",
    "    for j in range(n):\n",
    "        if j == 0 and i not in(4,5) and i!=0 and i!=n//2 :\n",
    "            print('*',end = ' ')\n",
    "        elif (i==0 and j!=0) or (i==n//2 and j!=0 and j!=n-1) or (i==n-1 and j!=n-1):\n",
    "            print('*',end = ' ')\n",
    "        elif j==n-1 and i in(4,5):\n",
    "            print('*',end = ' ')\n",
    "        else:\n",
    "            print(' ',end = ' ')\n",
    "    print()            "
   ]
  },
  {
   "cell_type": "code",
   "execution_count": 21,
   "id": "5484ce22",
   "metadata": {},
   "outputs": [
    {
     "name": "stdout",
     "output_type": "stream",
     "text": [
      "* * * * * * * \n",
      "      *       \n",
      "      *       \n",
      "      *       \n",
      "      *       \n",
      "      *       \n",
      "      *       \n"
     ]
    }
   ],
   "source": [
    "for i in range(n):\n",
    "    for j in range(n):\n",
    "        if (i==0 or j==n//2):\n",
    "            print('*',end = ' ')\n",
    "        else:\n",
    "            print(' ',end = ' ')\n",
    "    print() "
   ]
  },
  {
   "cell_type": "code",
   "execution_count": 150,
   "id": "38da2b85",
   "metadata": {},
   "outputs": [
    {
     "name": "stdout",
     "output_type": "stream",
     "text": [
      "*           * \n",
      "*           * \n",
      "*           * \n",
      "*           * \n",
      "*           * \n",
      "*           * \n",
      "  * * * * *   \n"
     ]
    }
   ],
   "source": [
    "for i in range(n):\n",
    "    for j in range(n):\n",
    "        if (j == 0 or j == n - 1) and (i != n - 1):\n",
    "            print('*', end=' ')\n",
    "        elif (i == n - 1) and (j > 0 and j < n - 1):\n",
    "            print('*', end=' ')\n",
    "        else:\n",
    "            print(' ', end=' ')\n",
    "    print()"
   ]
  },
  {
   "cell_type": "code",
   "execution_count": 70,
   "id": "8af53648",
   "metadata": {},
   "outputs": [
    {
     "name": "stdout",
     "output_type": "stream",
     "text": [
      "*           * \n",
      " *         *  \n",
      "  *       *   \n",
      "   *     *    \n",
      "    *   *     \n",
      "     * *      \n",
      "      *       \n"
     ]
    }
   ],
   "source": [
    "for i in range(n):\n",
    "    for j in range(2*n):\n",
    "        if i==j or i+j==(2*n)-2:\n",
    "            print('*',end = '')\n",
    "        else:\n",
    "            print('',end = ' ')\n",
    "    print() "
   ]
  },
  {
   "cell_type": "code",
   "execution_count": 79,
   "id": "c137eca5",
   "metadata": {},
   "outputs": [
    {
     "name": "stdout",
     "output_type": "stream",
     "text": [
      "*           * \n",
      "*           * \n",
      "*           * \n",
      "*     *     * \n",
      "*   *   *   * \n",
      "* *       * * \n",
      "*           * \n"
     ]
    }
   ],
   "source": [
    "for i in range(n):\n",
    "    for j in range(n):\n",
    "        if j==0 or j==n-1:\n",
    "            print('*',end = ' ')\n",
    "        elif (i==j and (j>=3)) or (i+j==n-1 and j in(1,2)):\n",
    "            print('*',end = ' ')\n",
    "        else:\n",
    "            print(' ',end = ' ')\n",
    "    print() "
   ]
  },
  {
   "cell_type": "code",
   "execution_count": 80,
   "id": "03dca873",
   "metadata": {},
   "outputs": [
    {
     "name": "stdout",
     "output_type": "stream",
     "text": [
      "*           * \n",
      "  *       *   \n",
      "    *   *     \n",
      "      *       \n",
      "    *   *     \n",
      "  *       *   \n",
      "*           * \n"
     ]
    }
   ],
   "source": [
    "for i in range(n):\n",
    "    for j in range(n):\n",
    "        if i==j or i+j==n-1:\n",
    "            print('*',end = ' ')\n",
    "        else:\n",
    "            print(' ',end = ' ')\n",
    "    print() "
   ]
  },
  {
   "cell_type": "code",
   "execution_count": 82,
   "id": "561ae36e",
   "metadata": {},
   "outputs": [
    {
     "name": "stdout",
     "output_type": "stream",
     "text": [
      "*           * \n",
      "  *       *   \n",
      "    *   *     \n",
      "      *       \n",
      "    *         \n",
      "  *           \n",
      "*             \n"
     ]
    }
   ],
   "source": [
    "for i in range(n):\n",
    "    for j in range(n):\n",
    "        if (i==j and j<=3)or i+j==n-1:\n",
    "            print('*',end = ' ')\n",
    "        else:\n",
    "            print(' ',end = ' ')\n",
    "    print() "
   ]
  },
  {
   "cell_type": "code",
   "execution_count": 84,
   "id": "1a391ee0",
   "metadata": {},
   "outputs": [
    {
     "name": "stdout",
     "output_type": "stream",
     "text": [
      "* * * * * * * \n",
      "          *   \n",
      "        *     \n",
      "      *       \n",
      "    *         \n",
      "  *           \n",
      "* * * * * * * \n"
     ]
    }
   ],
   "source": [
    "for i in range(n):\n",
    "    for j in range(n):\n",
    "        if i==0 or i==n-1 or i+j==(n-1):\n",
    "            print('*',end = ' ')\n",
    "        else:\n",
    "            print(' ',end = ' ')\n",
    "    print()"
   ]
  }
 ],
 "metadata": {
  "kernelspec": {
   "display_name": "Python 3 (ipykernel)",
   "language": "python",
   "name": "python3"
  },
  "language_info": {
   "codemirror_mode": {
    "name": "ipython",
    "version": 3
   },
   "file_extension": ".py",
   "mimetype": "text/x-python",
   "name": "python",
   "nbconvert_exporter": "python",
   "pygments_lexer": "ipython3",
   "version": "3.10.1"
  }
 },
 "nbformat": 4,
 "nbformat_minor": 5
}
